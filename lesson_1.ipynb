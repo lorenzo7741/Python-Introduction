{
 "cells": [
  {
   "cell_type": "markdown",
   "metadata": {},
   "source": [
    "## Lesson 1: Introduction to Python Types - Integer, Float, and String\n",
    "In this lesson, we will cover the basic Python data types: integer, float, and string. Let's explore these types and how they work through a series of examples."
   ]
  },
  {
   "cell_type": "markdown",
   "metadata": {},
   "source": [
    "Example 1"
   ]
  },
  {
   "cell_type": "code",
   "execution_count": null,
   "metadata": {},
   "outputs": [],
   "source": [
    "# 'x' and 'y' are integers. \n",
    "# We can perform arithmetic operations like addition on them.\n",
    "\n",
    "x = 4  # x is an integer\n",
    "y = 5  # y is also an integer\n",
    "s = x + y  # s stores the sum of x and y\n",
    "\n",
    "# Printing the result using an f-string for better formatting.\n",
    "print(f'The result is {s}')  # Expected output: \"The result is 9\"\n"
   ]
  },
  {
   "cell_type": "markdown",
   "metadata": {},
   "source": [
    "Example 2"
   ]
  },
  {
   "cell_type": "code",
   "execution_count": null,
   "metadata": {},
   "outputs": [],
   "source": [
    "# You can mix integers and floats in arithmetic operations.\n",
    "# Here, 'x' is an integer and 'y' is a float.\n",
    "\n",
    "x = 7  # Integer\n",
    "y = 3.1  # Float\n",
    "\n",
    "# Subtracting a float from an integer results in a float.\n",
    "s = x - y  # The result will be a float (3.9)\n",
    "print(f'The result is {s}')  # Expected output: \"The result is 3.9\"\n"
   ]
  },
  {
   "cell_type": "markdown",
   "metadata": {},
   "source": [
    "Example 3"
   ]
  },
  {
   "cell_type": "code",
   "execution_count": null,
   "metadata": {},
   "outputs": [],
   "source": [
    "# We can check the data type of any variable using the type() function.\n",
    "\n",
    "# Checking the type of an integer\n",
    "x = 3  # Integer\n",
    "print(type(x))  # Expected output: <class 'int'>\n",
    "\n",
    "# Checking the type of a float\n",
    "x = 3.3  # Float\n",
    "print(type(x))  # Expected output: <class 'float'>\n",
    "\n",
    "# Checking the type of a string\n",
    "x = 'Pippo'  # String\n",
    "print(type(x))  # Expected output: <class 'str'>\n"
   ]
  },
  {
   "cell_type": "markdown",
   "metadata": {},
   "source": [
    "Example 4"
   ]
  },
  {
   "cell_type": "code",
   "execution_count": null,
   "metadata": {},
   "outputs": [],
   "source": [
    "# Strings are used to store textual data.\n",
    "# You can use f-strings to easily combine strings.\n",
    "\n",
    "name = 'Lorenzo'  # String\n",
    "surname = 'Mori'  # String\n",
    "\n",
    "# Printing the full name using an f-string\n",
    "print(f'My name is {name} {surname}')  # Expected output: \"My name is Lorenzo Mori\"\n"
   ]
  }
 ],
 "metadata": {
  "kernelspec": {
   "display_name": "web_env",
   "language": "python",
   "name": "python3"
  },
  "language_info": {
   "codemirror_mode": {
    "name": "ipython",
    "version": 3
   },
   "file_extension": ".py",
   "mimetype": "text/x-python",
   "name": "python",
   "nbconvert_exporter": "python",
   "pygments_lexer": "ipython3",
   "version": "3.8.2"
  }
 },
 "nbformat": 4,
 "nbformat_minor": 2
}
